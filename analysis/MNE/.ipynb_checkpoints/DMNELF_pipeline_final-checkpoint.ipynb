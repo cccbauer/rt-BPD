{
 "cells": [
  {
   "cell_type": "code",
   "execution_count": 1,
   "id": "3803e62e",
   "metadata": {},
   "outputs": [],
   "source": [
    "#!/usr/bin/env python\n",
    "# coding: utf-8"
   ]
  },
  {
   "cell_type": "code",
   "execution_count": null,
   "id": "1c211b3a",
   "metadata": {},
   "outputs": [],
   "source": [
    "# In[41]:"
   ]
  },
  {
   "cell_type": "code",
   "execution_count": null,
   "id": "31f8a2de",
   "metadata": {},
   "outputs": [],
   "source": [
    "import mne\n",
    "import pandas as pd\n",
    "import numpy as np\n",
    "import matplotlib.pyplot as plt\n",
    "from scipy.interpolate import interp1d"
   ]
  },
  {
   "cell_type": "code",
   "execution_count": null,
   "id": "3cf27b93",
   "metadata": {},
   "outputs": [],
   "source": [
    "# In[42]:"
   ]
  },
  {
   "cell_type": "code",
   "execution_count": null,
   "id": "693b2332",
   "metadata": {},
   "outputs": [],
   "source": [
    "raw = mne.io.read_raw_edf('../BVAnalyzer/export/sub-rtbpd003_ses-nf2_task_feedback_run-01_cleaned.edf', preload=True)\n",
    "raw"
   ]
  },
  {
   "cell_type": "code",
   "execution_count": null,
   "id": "0e7c5d7f",
   "metadata": {},
   "outputs": [],
   "source": [
    "# In[43]:"
   ]
  },
  {
   "cell_type": "code",
   "execution_count": null,
   "id": "1d4b3087",
   "metadata": {},
   "outputs": [],
   "source": [
    "pda = pd.read_csv('../murfi/sub-rtBPD003_ses-nf_task-feedback_run-01_PDA.csv')\n",
    "pda_signal = pda.iloc[:, 0].values  # adjust based on column structure\n",
    "pda_signal"
   ]
  },
  {
   "cell_type": "code",
   "execution_count": null,
   "id": "bfba7b20",
   "metadata": {},
   "outputs": [],
   "source": [
    "# ## Step 1: PDA Upsampling to 4 Hz"
   ]
  },
  {
   "cell_type": "code",
   "execution_count": null,
   "id": "f92303af",
   "metadata": {},
   "outputs": [],
   "source": [
    "# In[44]:"
   ]
  },
  {
   "cell_type": "code",
   "execution_count": null,
   "id": "54d6f9c8",
   "metadata": {},
   "outputs": [],
   "source": [
    "from scipy.interpolate import interp1d"
   ]
  },
  {
   "cell_type": "code",
   "execution_count": null,
   "id": "3765f57f",
   "metadata": {},
   "outputs": [],
   "source": [
    "# Original PDA: every 1.2 seconds\n",
    "original_fs = 1 / 1.2  # ~0.833 Hz\n",
    "pda_time_orig = np.arange(len(pda_signal)) / original_fs"
   ]
  },
  {
   "cell_type": "code",
   "execution_count": null,
   "id": "650b46de",
   "metadata": {},
   "outputs": [],
   "source": [
    "# Target time: 4 Hz over full EEG duration\n",
    "target_fs = 4.0\n",
    "duration_sec = raw.times[-1]\n",
    "target_time = np.arange(0, duration_sec, 1/target_fs)"
   ]
  },
  {
   "cell_type": "code",
   "execution_count": null,
   "id": "4eedc816",
   "metadata": {},
   "outputs": [],
   "source": [
    "# Interpolate PDA to 4 Hz\n",
    "interp_func = interp1d(pda_time_orig, pda_signal, kind='cubic', fill_value='extrapolate')\n",
    "pda_resampled = interp_func(target_time)"
   ]
  },
  {
   "cell_type": "code",
   "execution_count": null,
   "id": "ffd4603f",
   "metadata": {},
   "outputs": [],
   "source": [
    "# Normalize\n",
    "pda_resampled_z = (pda_resampled - np.mean(pda_resampled)) / np.std(pda_resampled)"
   ]
  },
  {
   "cell_type": "code",
   "execution_count": null,
   "id": "dad09cc7",
   "metadata": {},
   "outputs": [],
   "source": [
    "# ## Step 2: EEG time-frequency decomposition (via Stockwell or STFT) and Downsample EEG Power to 4 Hz\n",
    "#"
   ]
  },
  {
   "cell_type": "code",
   "execution_count": null,
   "id": "02e02b9e",
   "metadata": {},
   "outputs": [],
   "source": [
    "# In[45]:"
   ]
  },
  {
   "cell_type": "code",
   "execution_count": null,
   "id": "4a2aa50b",
   "metadata": {},
   "outputs": [],
   "source": [
    "from scipy.signal import stft"
   ]
  },
  {
   "cell_type": "code",
   "execution_count": null,
   "id": "26819245",
   "metadata": {},
   "outputs": [],
   "source": [
    "# Parameters\n",
    "fs = raw.info['sfreq']  # 250 Hz\n",
    "window_sec = 1.0\n",
    "nperseg = int(window_sec * fs)\n",
    "noverlap = nperseg - int(fs / 4)  # Step size = 250/4 = 62.5 samples → ~4 Hz output"
   ]
  },
  {
   "cell_type": "code",
   "execution_count": null,
   "id": "d51eb07a",
   "metadata": {},
   "outputs": [],
   "source": [
    "# Extract EEG data\n",
    "picks_eeg = mne.pick_types(raw.info, eeg=True)"
   ]
  },
  {
   "cell_type": "code",
   "execution_count": null,
   "id": "99a4930e",
   "metadata": {},
   "outputs": [],
   "source": [
    "eeg_data = raw.get_data(picks='eeg')  # shape: (n_channels, n_samples)"
   ]
  },
  {
   "cell_type": "code",
   "execution_count": null,
   "id": "c7278a3c",
   "metadata": {},
   "outputs": [],
   "source": [
    "# STFT across all channels\n",
    "f, t, Zxx = stft(eeg_data, fs=fs, nperseg=nperseg, noverlap=noverlap, axis=1)"
   ]
  },
  {
   "cell_type": "code",
   "execution_count": null,
   "id": "79257adf",
   "metadata": {},
   "outputs": [],
   "source": [
    "# Zxx: shape (n_channels, n_freqs, n_windows)\n",
    "power = np.abs(Zxx) ** 2\n",
    "power = power.transpose(2, 0, 1)  # reshape to (n_windows, n_channels, n_freqs)"
   ]
  },
  {
   "cell_type": "code",
   "execution_count": null,
   "id": "29cc68fc",
   "metadata": {},
   "outputs": [],
   "source": [
    "# Save frequency bins to use later\n",
    "freqs = f  # <--- this is what was missing"
   ]
  },
  {
   "cell_type": "code",
   "execution_count": null,
   "id": "cc2bbdea",
   "metadata": {},
   "outputs": [],
   "source": [
    "# ## Step 4: Divide Spectrum into 10 Energy-Uniform Frequency Bands\n",
    "#"
   ]
  },
  {
   "cell_type": "code",
   "execution_count": null,
   "id": "f96b0ac3",
   "metadata": {},
   "outputs": [],
   "source": [
    "# Step 4.1: Compute total energy per frequency bin"
   ]
  },
  {
   "cell_type": "code",
   "execution_count": null,
   "id": "880f2b94",
   "metadata": {},
   "outputs": [],
   "source": [
    "# In[46]:"
   ]
  },
  {
   "cell_type": "code",
   "execution_count": null,
   "id": "751ac662",
   "metadata": {},
   "outputs": [],
   "source": [
    "# power: shape (n_windows, n_channels, n_freqs)\n",
    "n_windows, n_channels, n_freqs = power.shape"
   ]
  },
  {
   "cell_type": "code",
   "execution_count": null,
   "id": "5455cb19",
   "metadata": {},
   "outputs": [],
   "source": [
    "# Sum across time and channels to get total energy per freq bin\n",
    "total_energy_per_freq = power.sum(axis=(0, 1))  # shape: (n_freqs,)"
   ]
  },
  {
   "cell_type": "code",
   "execution_count": null,
   "id": "b545e1b6",
   "metadata": {},
   "outputs": [],
   "source": [
    "# ✅ Step 4.2: Define 10 energy-equal frequency bands\n",
    "#"
   ]
  },
  {
   "cell_type": "code",
   "execution_count": null,
   "id": "87d69ae8",
   "metadata": {},
   "outputs": [],
   "source": [
    "# In[47]:"
   ]
  },
  {
   "cell_type": "code",
   "execution_count": null,
   "id": "9cd7a670",
   "metadata": {},
   "outputs": [],
   "source": [
    "# Compute cumulative energy\n",
    "cumulative_energy = np.cumsum(total_energy_per_freq)\n",
    "total_energy = cumulative_energy[-1]\n",
    "energy_bins = np.linspace(0, total_energy, 11)"
   ]
  },
  {
   "cell_type": "code",
   "execution_count": null,
   "id": "564bbc56",
   "metadata": {},
   "outputs": [],
   "source": [
    "# Find frequency indices that split energy into 10 equal parts\n",
    "band_edges = np.searchsorted(cumulative_energy, energy_bins)\n",
    "band_edges = np.unique(band_edges)"
   ]
  },
  {
   "cell_type": "code",
   "execution_count": null,
   "id": "cfa0986e",
   "metadata": {},
   "outputs": [],
   "source": [
    "# ✅ Step 4.3: Average power within each band\n",
    "#"
   ]
  },
  {
   "cell_type": "code",
   "execution_count": null,
   "id": "73d8dcc1",
   "metadata": {},
   "outputs": [],
   "source": [
    "# In[48]:"
   ]
  },
  {
   "cell_type": "code",
   "execution_count": null,
   "id": "204a3dda",
   "metadata": {},
   "outputs": [],
   "source": [
    "# Create new array: (n_windows, n_channels, 10 bands)\n",
    "n_bands = 10\n",
    "power_banded = np.zeros((n_windows, n_channels, n_bands))"
   ]
  },
  {
   "cell_type": "code",
   "execution_count": null,
   "id": "890db46b",
   "metadata": {},
   "outputs": [],
   "source": [
    "for i in range(n_bands):\n",
    "    f_start = band_edges[i]\n",
    "    f_end = band_edges[i+1] if i+1 < len(band_edges) else n_freqs\n",
    "    power_banded[:, :, i] = power[:, :, f_start:f_end].mean(axis=2)"
   ]
  },
  {
   "cell_type": "code",
   "execution_count": null,
   "id": "20362b8a",
   "metadata": {},
   "outputs": [],
   "source": [
    "# ## Step 5: Normalize Each Frequency Band (Per Channel)\n",
    "#"
   ]
  },
  {
   "cell_type": "code",
   "execution_count": null,
   "id": "b2a7f1cc",
   "metadata": {},
   "outputs": [],
   "source": [
    "# In[49]:"
   ]
  },
  {
   "cell_type": "code",
   "execution_count": null,
   "id": "06e266e7",
   "metadata": {},
   "outputs": [],
   "source": [
    "# power_banded: shape (n_samples, n_channels, 10 bands)\n",
    "n_samples, n_channels, n_bands = power_banded.shape"
   ]
  },
  {
   "cell_type": "code",
   "execution_count": null,
   "id": "f6348d50",
   "metadata": {},
   "outputs": [],
   "source": [
    "# Reshape to 2D: (n_samples, n_channels * n_bands)\n",
    "X_raw = power_banded.reshape(n_samples, n_channels * n_bands)"
   ]
  },
  {
   "cell_type": "code",
   "execution_count": null,
   "id": "176fd662",
   "metadata": {},
   "outputs": [],
   "source": [
    "# Normalize across time for each feature\n",
    "X_mean = X_raw.mean(axis=0)\n",
    "X_std = X_raw.std(axis=0)\n",
    "X_norm = (X_raw - X_mean) / X_std"
   ]
  },
  {
   "cell_type": "code",
   "execution_count": null,
   "id": "660950a4",
   "metadata": {},
   "outputs": [],
   "source": [
    "# ## Step 6: Align EEG Features and PDA Targets\n",
    "#"
   ]
  },
  {
   "cell_type": "code",
   "execution_count": null,
   "id": "ce6f0c81",
   "metadata": {},
   "outputs": [],
   "source": [
    "# In[50]:"
   ]
  },
  {
   "cell_type": "code",
   "execution_count": null,
   "id": "d87a4bfa",
   "metadata": {},
   "outputs": [],
   "source": [
    "# Truncate to minimum length\n",
    "min_len = min(len(pda_resampled_z), X_norm.shape[0])\n",
    "X_aligned = X_norm[:min_len]\n",
    "y_aligned = pda_resampled_z[:min_len]"
   ]
  },
  {
   "cell_type": "code",
   "execution_count": null,
   "id": "4c8993a5",
   "metadata": {},
   "outputs": [],
   "source": [
    "print(f\"EEG features shape: {X_aligned.shape}\")\n",
    "print(f\"PDA shape: {y_aligned.shape}\")"
   ]
  },
  {
   "cell_type": "code",
   "execution_count": null,
   "id": "bb198efc",
   "metadata": {},
   "outputs": [],
   "source": [
    "# ## Step 7: Train Ridge Regression Model\n",
    "#"
   ]
  },
  {
   "cell_type": "code",
   "execution_count": null,
   "id": "2befa276",
   "metadata": {},
   "outputs": [],
   "source": [
    "# In[51]:"
   ]
  },
  {
   "cell_type": "code",
   "execution_count": null,
   "id": "4c5669fe",
   "metadata": {},
   "outputs": [],
   "source": [
    "from sklearn.linear_model import RidgeCV\n",
    "from sklearn.model_selection import cross_val_score"
   ]
  },
  {
   "cell_type": "code",
   "execution_count": null,
   "id": "7ece4dbe",
   "metadata": {},
   "outputs": [],
   "source": [
    "# Fit model\n",
    "ridge = RidgeCV(alphas=np.logspace(-3, 3, 20), cv=5)\n",
    "ridge.fit(X_aligned, y_aligned)"
   ]
  },
  {
   "cell_type": "code",
   "execution_count": null,
   "id": "feaede7a",
   "metadata": {},
   "outputs": [],
   "source": [
    "# Report\n",
    "r2 = ridge.score(X_aligned, y_aligned)\n",
    "print(f\"✅ Ridge Regression R² score: {r2:.3f}\")"
   ]
  },
  {
   "cell_type": "code",
   "execution_count": null,
   "id": "43f04ae9",
   "metadata": {},
   "outputs": [],
   "source": [
    "# ## 1. Visualize Actual vs. Predicted PDA\n",
    "# \n",
    "#"
   ]
  },
  {
   "cell_type": "code",
   "execution_count": null,
   "id": "2f55ea16",
   "metadata": {},
   "outputs": [],
   "source": [
    "# In[52]:"
   ]
  },
  {
   "cell_type": "code",
   "execution_count": null,
   "id": "3c9a2134",
   "metadata": {},
   "outputs": [],
   "source": [
    "y_pred = ridge.predict(X_aligned)"
   ]
  },
  {
   "cell_type": "code",
   "execution_count": null,
   "id": "cabc6e3a",
   "metadata": {},
   "outputs": [],
   "source": [
    "plt.figure(figsize=(12, 4))\n",
    "plt.plot(y_aligned, label='Actual PDA', color='red')\n",
    "plt.plot(y_pred, label='Predicted PDA', color='blue', alpha=0.7)\n",
    "plt.title(f'Actual vs Predicted PDA (R² = {r2:.3f})')\n",
    "plt.xlabel('Sample (4 Hz)')\n",
    "plt.ylabel('Z-scored Value')\n",
    "plt.legend()\n",
    "plt.grid(True)\n",
    "plt.tight_layout()\n",
    "plt.show()"
   ]
  },
  {
   "cell_type": "code",
   "execution_count": null,
   "id": "e2758daf",
   "metadata": {},
   "outputs": [],
   "source": [
    "# ## 2. Inspect Model Coefficients"
   ]
  },
  {
   "cell_type": "code",
   "execution_count": null,
   "id": "b3098308",
   "metadata": {},
   "outputs": [],
   "source": [
    "# In[68]:"
   ]
  },
  {
   "cell_type": "code",
   "execution_count": null,
   "id": "f1c06e63",
   "metadata": {},
   "outputs": [],
   "source": [
    "import seaborn as sns\n",
    "import matplotlib.pyplot as plt"
   ]
  },
  {
   "cell_type": "code",
   "execution_count": null,
   "id": "167a8e44",
   "metadata": {},
   "outputs": [],
   "source": [
    "# Define band labels\n",
    "band_labels = [\n",
    "    \"Delta\", \"Theta\", \"Alpha1\", \"Alpha2\",\n",
    "    \"Beta1\", \"Beta2\", \"Beta3\", \"Beta4\",\n",
    "    \"Gamma1\", \"Gamma2\"\n",
    "]"
   ]
  },
  {
   "cell_type": "code",
   "execution_count": null,
   "id": "fc522db2",
   "metadata": {},
   "outputs": [],
   "source": [
    "# Reshape coefficients to (channels, bands)\n",
    "coefs = ridge.coef_.reshape(n_channels, n_bands)"
   ]
  },
  {
   "cell_type": "code",
   "execution_count": null,
   "id": "ee575b09",
   "metadata": {},
   "outputs": [],
   "source": [
    "# Plot heatmap\n",
    "plt.figure(figsize=(10, 6))\n",
    "sns.heatmap(coefs, xticklabels=band_labels,\n",
    "            yticklabels=raw.ch_names[:n_channels],\n",
    "            cmap='coolwarm', center=0)"
   ]
  },
  {
   "cell_type": "code",
   "execution_count": null,
   "id": "12702c37",
   "metadata": {},
   "outputs": [],
   "source": [
    "plt.title('Ridge Regression Coefficients\\n(Channels × Frequency Bands)')\n",
    "plt.xlabel('Frequency Band')\n",
    "plt.ylabel('EEG Channel')\n",
    "plt.tight_layout()\n",
    "plt.show()"
   ]
  },
  {
   "cell_type": "code",
   "execution_count": null,
   "id": "1c11afde",
   "metadata": {},
   "outputs": [],
   "source": [
    "# ## Top Contributing Channels and Frequencies\n",
    "#"
   ]
  },
  {
   "cell_type": "code",
   "execution_count": null,
   "id": "95bca1be",
   "metadata": {},
   "outputs": [],
   "source": [
    "# 1. Reshape and Rank Absolute Coefficients"
   ]
  },
  {
   "cell_type": "code",
   "execution_count": null,
   "id": "0cf0f6cc",
   "metadata": {},
   "outputs": [],
   "source": [
    "# In[69]:"
   ]
  },
  {
   "cell_type": "code",
   "execution_count": null,
   "id": "1428181b",
   "metadata": {},
   "outputs": [],
   "source": [
    "# Reshape back to (channels, 10 bands)\n",
    "coefs = ridge.coef_.reshape(n_channels, n_bands)"
   ]
  },
  {
   "cell_type": "code",
   "execution_count": null,
   "id": "83a43bc2",
   "metadata": {},
   "outputs": [],
   "source": [
    "# Compute absolute weight for ranking\n",
    "abs_coefs = np.abs(coefs)"
   ]
  },
  {
   "cell_type": "code",
   "execution_count": null,
   "id": "c5543940",
   "metadata": {},
   "outputs": [],
   "source": [
    "# Rank all channel × band pairs by contribution\n",
    "flat_indices = np.argsort(abs_coefs.ravel())[::-1]\n",
    "ranked = [(raw.ch_names[i // n_bands], f'Band {i % n_bands + 1}', coefs[i // n_bands, i % n_bands])\n",
    "          for i in flat_indices]\n",
    "# EEG band labels (assuming bands were defined roughly in this order)\n",
    "band_labels = [\n",
    "    \"Delta\", \"Theta\", \"Alpha1\", \"Alpha2\",\n",
    "    \"Beta1\", \"Beta2\", \"Beta3\", \"Beta4\",\n",
    "    \"Gamma1\", \"Gamma2\"\n",
    "]"
   ]
  },
  {
   "cell_type": "code",
   "execution_count": null,
   "id": "7943693b",
   "metadata": {},
   "outputs": [],
   "source": [
    "# Rank all channel × band pairs by contribution\n",
    "flat_indices = np.argsort(abs_coefs.ravel())[::-1]\n",
    "ranked = [(raw.ch_names[i // n_bands], band_labels[i % n_bands], coefs[i // n_bands, i % n_bands])\n",
    "          for i in flat_indices]"
   ]
  },
  {
   "cell_type": "code",
   "execution_count": null,
   "id": "7318ea94",
   "metadata": {},
   "outputs": [],
   "source": [
    "# 2. Display Top 10 Contributors"
   ]
  },
  {
   "cell_type": "code",
   "execution_count": null,
   "id": "b6efd9a2",
   "metadata": {},
   "outputs": [],
   "source": [
    "# In[70]:"
   ]
  },
  {
   "cell_type": "code",
   "execution_count": null,
   "id": "84c6e1ba",
   "metadata": {},
   "outputs": [],
   "source": [
    "print(\"🔝 Top 10 contributing channel × frequency band pairs:\")\n",
    "for i, (ch, band, weight) in enumerate(ranked[:10], 1):\n",
    "    print(f\"{i}. {ch} — {band} → Coefficient = {weight:.4f}\")"
   ]
  },
  {
   "cell_type": "code",
   "execution_count": null,
   "id": "3da5c3a8",
   "metadata": {},
   "outputs": [],
   "source": [
    "# 3. Optional: Grouped Summaries\n",
    "# ▶️ Top Channels (aggregated over bands)"
   ]
  },
  {
   "cell_type": "code",
   "execution_count": null,
   "id": "130bf622",
   "metadata": {},
   "outputs": [],
   "source": [
    "# In[71]:"
   ]
  },
  {
   "cell_type": "code",
   "execution_count": null,
   "id": "4691f5ee",
   "metadata": {},
   "outputs": [],
   "source": [
    "channel_scores = abs_coefs.sum(axis=1)\n",
    "top_channels = np.argsort(channel_scores)[::-1]"
   ]
  },
  {
   "cell_type": "code",
   "execution_count": null,
   "id": "4550bf1f",
   "metadata": {},
   "outputs": [],
   "source": [
    "print(\"\\n🎯 Top 5 contributing EEG channels (sum across bands):\")\n",
    "for i in range(5):\n",
    "    ch = raw.ch_names[top_channels[i]]\n",
    "    score = channel_scores[top_channels[i]]\n",
    "    print(f\"{i+1}. {ch} → Total |weight| = {score:.4f}\")"
   ]
  },
  {
   "cell_type": "code",
   "execution_count": null,
   "id": "5992ea7d",
   "metadata": {},
   "outputs": [],
   "source": [
    "#  Top Frequency Bands (aggregated over channels)"
   ]
  },
  {
   "cell_type": "code",
   "execution_count": null,
   "id": "41958d22",
   "metadata": {},
   "outputs": [],
   "source": [
    "# In[72]:"
   ]
  },
  {
   "cell_type": "code",
   "execution_count": null,
   "id": "e0e0688c",
   "metadata": {},
   "outputs": [],
   "source": [
    "# Sum of absolute weights per frequency band across all channels\n",
    "band_scores = abs_coefs.sum(axis=0)\n",
    "top_bands = np.argsort(band_scores)[::-1]"
   ]
  },
  {
   "cell_type": "code",
   "execution_count": null,
   "id": "9f7c02ab",
   "metadata": {},
   "outputs": [],
   "source": [
    "print(\"\\n🎯 Top 5 contributing frequency bands (sum across channels):\")\n",
    "for i in range(5):\n",
    "    band_name = band_labels[top_bands[i]]\n",
    "    score = band_scores[top_bands[i]]\n",
    "    print(f\"{i+1}. {band_name} → Total |weight| = {score:.4f}\")"
   ]
  },
  {
   "cell_type": "code",
   "execution_count": null,
   "id": "c817bdb6",
   "metadata": {},
   "outputs": [],
   "source": [
    "# Topomap of Ridge Coefficients for One Band"
   ]
  },
  {
   "cell_type": "code",
   "execution_count": null,
   "id": "b5ab83c2",
   "metadata": {},
   "outputs": [],
   "source": [
    "# In[73]:"
   ]
  },
  {
   "cell_type": "code",
   "execution_count": null,
   "id": "bb75076e",
   "metadata": {},
   "outputs": [],
   "source": [
    "from mne.viz import plot_topomap\n",
    "import matplotlib.pyplot as plt\n",
    "import numpy as np"
   ]
  },
  {
   "cell_type": "code",
   "execution_count": null,
   "id": "5a49d6a7",
   "metadata": {},
   "outputs": [],
   "source": [
    "# Make sure montage and coefs are valid\n",
    "montage = mne.channels.make_standard_montage(\"standard_1020\")\n",
    "raw.set_montage(montage, on_missing='ignore')\n",
    "picks_eeg = mne.pick_types(raw.info, eeg=True)"
   ]
  },
  {
   "cell_type": "code",
   "execution_count": null,
   "id": "342015a4",
   "metadata": {},
   "outputs": [],
   "source": [
    "# Get channel positions and filter valid ones\n",
    "valid_pos = []\n",
    "valid_idx = []\n",
    "for i in picks_eeg:\n",
    "    pos_2d = raw.info['chs'][i]['loc'][:2]\n",
    "    if not np.any(np.isnan(pos_2d)):\n",
    "        valid_pos.append(pos_2d)\n",
    "        valid_idx.append(i)"
   ]
  },
  {
   "cell_type": "code",
   "execution_count": null,
   "id": "d021b048",
   "metadata": {},
   "outputs": [],
   "source": [
    "valid_pos = np.array(valid_pos)\n",
    "coefs_valid = coefs[valid_idx, :]"
   ]
  },
  {
   "cell_type": "code",
   "execution_count": null,
   "id": "a84c5361",
   "metadata": {},
   "outputs": [],
   "source": [
    "# Band labels\n",
    "band_labels = [\n",
    "    \"Delta\", \"Theta\", \"Alpha1\", \"Alpha2\",\n",
    "    \"Beta1\", \"Beta2\", \"Beta3\", \"Beta4\",\n",
    "    \"Gamma1\", \"Gamma2\"\n",
    "]"
   ]
  },
  {
   "cell_type": "code",
   "execution_count": null,
   "id": "bc6978c4",
   "metadata": {},
   "outputs": [],
   "source": [
    "# Grid plot of all bands\n",
    "fig, axs = plt.subplots(2, 5, figsize=(15, 6))\n",
    "axs = axs.flatten()"
   ]
  },
  {
   "cell_type": "code",
   "execution_count": null,
   "id": "7ee748f3",
   "metadata": {},
   "outputs": [],
   "source": [
    "for i in range(len(band_labels)):\n",
    "    ax = axs[i]\n",
    "    weights = coefs_valid[:, i]\n",
    "    plot_topomap(weights, valid_pos, axes=ax, show=False, contours=0, cmap=\"coolwarm\")\n",
    "    ax.set_title(band_labels[i])"
   ]
  },
  {
   "cell_type": "code",
   "execution_count": null,
   "id": "1dac24b9",
   "metadata": {},
   "outputs": [],
   "source": [
    "fig.suptitle(\"Ridge Coefficients Across EEG Frequency Bands\", fontsize=16)\n",
    "plt.tight_layout(rect=[0, 0, 1, 0.95])\n",
    "plt.show()"
   ]
  },
  {
   "cell_type": "code",
   "execution_count": null,
   "id": "d7e16f84",
   "metadata": {},
   "outputs": [],
   "source": [
    "# In[74]:"
   ]
  },
  {
   "cell_type": "code",
   "execution_count": null,
   "id": "3b668823",
   "metadata": {},
   "outputs": [],
   "source": [
    "# Print frequency ranges for each of the 10 bands\n",
    "print(\"🎼 Frequency Ranges of EEG Bands:\")\n",
    "for i in range(len(band_edges) - 1):\n",
    "    f_start = freqs[band_edges[i]]\n",
    "    f_end = freqs[band_edges[i+1] - 1] if band_edges[i+1] < len(freqs) else freqs[-1]\n",
    "    print(f\"{band_labels[i]}: {f_start:.1f}–{f_end:.1f} Hz\")"
   ]
  },
  {
   "cell_type": "code",
   "execution_count": null,
   "id": "47620722",
   "metadata": {},
   "outputs": [],
   "source": [
    "# ## Delay Embedding for EEG Features\n",
    "#"
   ]
  },
  {
   "cell_type": "code",
   "execution_count": null,
   "id": "89b04676",
   "metadata": {},
   "outputs": [],
   "source": [
    "# ## Nested Cross-Validation Setup\n",
    "#"
   ]
  },
  {
   "cell_type": "code",
   "execution_count": null,
   "id": "b36eb944",
   "metadata": {},
   "outputs": [],
   "source": [
    "# In[75]:"
   ]
  },
  {
   "cell_type": "code",
   "execution_count": null,
   "id": "a1cc7f8c",
   "metadata": {},
   "outputs": [],
   "source": [
    "from sklearn.linear_model import Ridge\n",
    "from sklearn.model_selection import KFold, train_test_split\n",
    "from sklearn.metrics import mean_squared_error, r2_score\n",
    "from scipy.stats import pearsonr\n",
    "import numpy as np\n",
    "import matplotlib.pyplot as plt\n",
    "import seaborn as sns"
   ]
  },
  {
   "cell_type": "code",
   "execution_count": null,
   "id": "2173a88e",
   "metadata": {},
   "outputs": [],
   "source": [
    "# Parameters\n",
    "m, k = 2, 5      # outer loop: 2×5 = 10 folds\n",
    "n = 30           # inner loop: 30 random splits for lambda search\n",
    "lambdas = np.logspace(-3, 3, 10)"
   ]
  },
  {
   "cell_type": "code",
   "execution_count": null,
   "id": "e7e7daa5",
   "metadata": {},
   "outputs": [],
   "source": [
    "# Storage for outer loop\n",
    "outer_r2_scores = []\n",
    "outer_nmse_scores = []\n",
    "outer_corr_scores = []\n",
    "best_lambdas = []\n",
    "all_coefs = []"
   ]
  },
  {
   "cell_type": "code",
   "execution_count": null,
   "id": "60011b4d",
   "metadata": {},
   "outputs": [],
   "source": [
    "# Outer cross-validation: m×k = 10 folds with time-blocked sampling\n",
    "block_size = len(y_with_delays) // (m * k)\n",
    "block_indices = [np.arange(i * block_size, (i + 1) * block_size) for i in range(m * k)]"
   ]
  },
  {
   "cell_type": "code",
   "execution_count": null,
   "id": "81d8e03d",
   "metadata": {},
   "outputs": [],
   "source": [
    "for outer_idx in range(m * k):\n",
    "    test_idx = block_indices[outer_idx]\n",
    "    train_idx = np.hstack([block_indices[i] for i in range(m * k) if i != outer_idx])"
   ]
  },
  {
   "cell_type": "code",
   "execution_count": null,
   "id": "c6fd33be",
   "metadata": {},
   "outputs": [],
   "source": [
    "X_train, X_test = X_with_delays[train_idx], X_with_delays[test_idx]\n",
    "    y_train, y_test = y_with_delays[train_idx], y_with_delays[test_idx]"
   ]
  },
  {
   "cell_type": "code",
   "execution_count": null,
   "id": "9c1c19f8",
   "metadata": {},
   "outputs": [],
   "source": [
    "# Inner CV for best lambda selection\n",
    "    best_lambda = None\n",
    "    best_nmse = np.inf"
   ]
  },
  {
   "cell_type": "code",
   "execution_count": null,
   "id": "be0fa968",
   "metadata": {},
   "outputs": [],
   "source": [
    "for lam in lambdas:\n",
    "        nmse_list = []\n",
    "        for _ in range(n):\n",
    "            X_subtrain, X_val, y_subtrain, y_val = train_test_split(X_train, y_train, test_size=0.2)\n",
    "            model = Ridge(alpha=lam)\n",
    "            model.fit(X_subtrain, y_subtrain)\n",
    "            y_pred = model.predict(X_val)"
   ]
  },
  {
   "cell_type": "code",
   "execution_count": null,
   "id": "ffcd0fbe",
   "metadata": {},
   "outputs": [],
   "source": [
    "mse = mean_squared_error(y_val, y_pred)\n",
    "            var = np.var(y_val)\n",
    "            nmse = mse / var\n",
    "            nmse_list.append(nmse)"
   ]
  },
  {
   "cell_type": "code",
   "execution_count": null,
   "id": "5b7f8f6c",
   "metadata": {},
   "outputs": [],
   "source": [
    "mean_nmse = np.mean(nmse_list)\n",
    "        if mean_nmse < best_nmse:\n",
    "            best_nmse = mean_nmse\n",
    "            best_lambda = lam"
   ]
  },
  {
   "cell_type": "code",
   "execution_count": null,
   "id": "d0414ca3",
   "metadata": {},
   "outputs": [],
   "source": [
    "best_lambdas.append(best_lambda)"
   ]
  },
  {
   "cell_type": "code",
   "execution_count": null,
   "id": "748dfe57",
   "metadata": {},
   "outputs": [],
   "source": [
    "# Train on full train set with best lambda\n",
    "    final_model = Ridge(alpha=best_lambda)\n",
    "    final_model.fit(X_train, y_train)\n",
    "    y_pred = final_model.predict(X_test)"
   ]
  },
  {
   "cell_type": "code",
   "execution_count": null,
   "id": "1c6e13b3",
   "metadata": {},
   "outputs": [],
   "source": [
    "# Store results\n",
    "    outer_r2_scores.append(r2_score(y_test, y_pred))\n",
    "    outer_nmse_scores.append(mean_squared_error(y_test, y_pred) / np.var(y_test))\n",
    "    outer_corr_scores.append(pearsonr(y_test, y_pred)[0])\n",
    "    all_coefs.append(final_model.coef_)"
   ]
  },
  {
   "cell_type": "code",
   "execution_count": null,
   "id": "b026bf17",
   "metadata": {},
   "outputs": [],
   "source": [
    "# ===== Results Summary =====\n",
    "print(\"\\n✅ Nested CV Summary:\")\n",
    "print(f\"Mean R²:        {np.mean(outer_r2_scores):.3f}\")\n",
    "print(f\"Mean NMSE:      {np.mean(outer_nmse_scores):.3f}\")\n",
    "print(f\"Mean Pearson r: {np.mean(outer_corr_scores):.3f}\")\n",
    "print(f\"Best λ per fold: {best_lambdas}\")\n",
    "print(f\"Mean log₁₀(λ):   {np.mean(np.log10(best_lambdas)):.2f}\")"
   ]
  },
  {
   "cell_type": "code",
   "execution_count": null,
   "id": "0e2adb27",
   "metadata": {},
   "outputs": [],
   "source": [
    "# ===== Coefficient Summary (per EEG channel × band) ====="
   ]
  },
  {
   "cell_type": "code",
   "execution_count": null,
   "id": "1d338b1e",
   "metadata": {},
   "outputs": [],
   "source": [
    "# Assuming you used delay embedding: (channels × bands × delays)\n",
    "n_features = X_with_delays.shape[1]\n",
    "n_channels = 32           # update if needed\n",
    "n_bands = 10\n",
    "n_delays = n_features // (n_channels * n_bands)"
   ]
  },
  {
   "cell_type": "code",
   "execution_count": null,
   "id": "70c27b1f",
   "metadata": {},
   "outputs": [],
   "source": [
    "# Mean coefficients across folds\n",
    "all_coefs = np.array(all_coefs)  # shape: (folds, n_features)\n",
    "mean_coefs = all_coefs.mean(axis=0)"
   ]
  },
  {
   "cell_type": "code",
   "execution_count": null,
   "id": "4e9ffcfc",
   "metadata": {},
   "outputs": [],
   "source": [
    "# Reshape to 3D: (channels, bands, delays)\n",
    "coefs_3d = mean_coefs.reshape(n_channels, n_bands, n_delays)"
   ]
  },
  {
   "cell_type": "code",
   "execution_count": null,
   "id": "7e04b7db",
   "metadata": {},
   "outputs": [],
   "source": [
    "# Collapse across delays → get total contribution per channel × band\n",
    "coefs_sum = np.abs(coefs_3d).sum(axis=2)  # shape: (channels, bands)"
   ]
  },
  {
   "cell_type": "code",
   "execution_count": null,
   "id": "3b419e0b",
   "metadata": {},
   "outputs": [],
   "source": [
    "# Plot heatmap\n",
    "band_labels = [\"Delta\", \"Theta\", \"Alpha1\", \"Alpha2\", \"Beta1\",\n",
    "               \"Beta2\", \"Beta3\", \"Beta4\", \"Gamma1\", \"Gamma2\"]"
   ]
  },
  {
   "cell_type": "code",
   "execution_count": null,
   "id": "01be4dd6",
   "metadata": {},
   "outputs": [],
   "source": [
    "plt.figure(figsize=(12, 6))\n",
    "sns.heatmap(coefs_sum, xticklabels=band_labels, yticklabels=raw.ch_names[:n_channels], cmap=\"coolwarm\")\n",
    "plt.title(\"Mean |Coefficient| per EEG Channel × Band (summed across delays)\")\n",
    "plt.xlabel(\"Frequency Band\")\n",
    "plt.ylabel(\"EEG Channel\")\n",
    "plt.tight_layout()\n",
    "plt.show()"
   ]
  },
  {
   "cell_type": "code",
   "execution_count": null,
   "id": "13964d94",
   "metadata": {},
   "outputs": [],
   "source": [
    "# ## FDR Correction (Benjamini–Hochberg)"
   ]
  },
  {
   "cell_type": "code",
   "execution_count": null,
   "id": "54756fcf",
   "metadata": {},
   "outputs": [],
   "source": [
    "# In[76]:"
   ]
  },
  {
   "cell_type": "code",
   "execution_count": null,
   "id": "4847b529",
   "metadata": {},
   "outputs": [],
   "source": [
    "from statsmodels.stats.multitest import fdrcorrection\n",
    "from scipy.stats import ttest_1samp"
   ]
  },
  {
   "cell_type": "code",
   "execution_count": null,
   "id": "4bf67fa7",
   "metadata": {},
   "outputs": [],
   "source": [
    "# --- FDR Correction on Ridge Coefficients ---"
   ]
  },
  {
   "cell_type": "code",
   "execution_count": null,
   "id": "39fc75f6",
   "metadata": {},
   "outputs": [],
   "source": [
    "# Step 1: t-test across folds to get p-values\n",
    "t_vals, p_vals = ttest_1samp(all_coefs, popmean=0, axis=0)  # shape: (n_features,)"
   ]
  },
  {
   "cell_type": "code",
   "execution_count": null,
   "id": "63fe2d05",
   "metadata": {},
   "outputs": [],
   "source": [
    "# Step 2: FDR correction\n",
    "significant_mask, pvals_corrected = fdrcorrection(p_vals, alpha=0.05)"
   ]
  },
  {
   "cell_type": "code",
   "execution_count": null,
   "id": "c5b246e4",
   "metadata": {},
   "outputs": [],
   "source": [
    "print(f\"\\n✅ FDR Correction completed — {np.sum(significant_mask)} significant weights (of {len(p_vals)})\")\n",
    "print(f\"Example corrected p-value range: min={pvals_corrected.min():.5f}, max={pvals_corrected.max():.5f}\")"
   ]
  },
  {
   "cell_type": "code",
   "execution_count": null,
   "id": "b3572e17",
   "metadata": {},
   "outputs": [],
   "source": [
    "# Step 3: Zero out non-significant coefficients\n",
    "mean_coefs_fdr = mean_coefs.copy()\n",
    "mean_coefs_fdr[~significant_mask] = 0"
   ]
  },
  {
   "cell_type": "code",
   "execution_count": null,
   "id": "f09a7b4e",
   "metadata": {},
   "outputs": [],
   "source": [
    "# Step 4: Visualize only significant weights (channel × band)\n",
    "coefs_3d_fdr = mean_coefs_fdr.reshape(n_channels, n_bands, n_delays)\n",
    "coefs_sum_fdr = np.abs(coefs_3d_fdr).sum(axis=2)"
   ]
  },
  {
   "cell_type": "code",
   "execution_count": null,
   "id": "c4c4b362",
   "metadata": {},
   "outputs": [],
   "source": [
    "plt.figure(figsize=(12, 6))\n",
    "sns.heatmap(coefs_sum_fdr, xticklabels=band_labels, yticklabels=raw.ch_names[:n_channels], cmap=\"coolwarm\")\n",
    "plt.title(\"FDR-corrected |Coefficient| per EEG Channel × Band (summed across delays)\")\n",
    "plt.xlabel(\"Frequency Band\")\n",
    "plt.ylabel(\"EEG Channel\")\n",
    "plt.tight_layout()\n",
    "plt.show()"
   ]
  },
  {
   "cell_type": "code",
   "execution_count": null,
   "id": "dfdae53d",
   "metadata": {},
   "outputs": [],
   "source": [
    "# ## Top 5 Most Significant EEG Features"
   ]
  },
  {
   "cell_type": "code",
   "execution_count": null,
   "id": "ae8eb9b7",
   "metadata": {},
   "outputs": [],
   "source": [
    "# In[77]:"
   ]
  },
  {
   "cell_type": "code",
   "execution_count": null,
   "id": "6baad765",
   "metadata": {},
   "outputs": [],
   "source": [
    "# Reconstruct channel × band × delay labels\n",
    "feature_labels = []\n",
    "for ch in range(n_channels):\n",
    "    for b in range(n_bands):\n",
    "        for d in range(n_delays):\n",
    "            feature_labels.append((raw.ch_names[ch], band_labels[b], delays[d]))"
   ]
  },
  {
   "cell_type": "code",
   "execution_count": null,
   "id": "f95dc90a",
   "metadata": {},
   "outputs": [],
   "source": [
    "# Extract p-values and coefficients\n",
    "significant_features = [(feature_labels[i], mean_coefs[i], pvals_corrected[i])\n",
    "                        for i in range(len(pvals_corrected)) if significant_mask[i]]"
   ]
  },
  {
   "cell_type": "code",
   "execution_count": null,
   "id": "6ee9a0b2",
   "metadata": {},
   "outputs": [],
   "source": [
    "# Sort by absolute weight\n",
    "top_features = sorted(significant_features, key=lambda x: abs(x[1]), reverse=True)[:5]"
   ]
  },
  {
   "cell_type": "code",
   "execution_count": null,
   "id": "1b345fb5",
   "metadata": {},
   "outputs": [],
   "source": [
    "# Display\n",
    "print(\"🔝 Top 5 Significant EEG Fingerprint Features (after FDR correction):\")\n",
    "for (ch, band, delay), weight, pval in top_features:\n",
    "    print(f\"  • {ch} – {band} – {delay/fs:.2f}s delay → weight = {weight:.4f}, p = {pval:.5f}\")"
   ]
  },
  {
   "cell_type": "code",
   "execution_count": null,
   "id": "0ff7065b",
   "metadata": {},
   "outputs": [],
   "source": [
    "# ## Grid of FDR-Corrected Topomaps Across DelaysPlot Topomaps for Specific Delays"
   ]
  },
  {
   "cell_type": "code",
   "execution_count": null,
   "id": "c7b98d53",
   "metadata": {},
   "outputs": [],
   "source": [
    "# In[78]:"
   ]
  },
  {
   "cell_type": "code",
   "execution_count": null,
   "id": "0ec4663c",
   "metadata": {},
   "outputs": [],
   "source": [
    "# Delay setup (make sure `delays` and fs are defined)\n",
    "delay_times = [d / fs for d in range(n_delays)]  # in seconds"
   ]
  },
  {
   "cell_type": "code",
   "execution_count": null,
   "id": "8eb8787e",
   "metadata": {},
   "outputs": [],
   "source": [
    "# Prepare valid EEG channel positions\n",
    "valid_idx = []\n",
    "valid_pos = []\n",
    "for i in range(n_channels):\n",
    "    loc = raw.info['chs'][i]['loc'][:2]\n",
    "    if not np.any(np.isnan(loc)):\n",
    "        valid_idx.append(i)\n",
    "        valid_pos.append(loc)\n",
    "valid_pos = np.array(valid_pos)"
   ]
  },
  {
   "cell_type": "code",
   "execution_count": null,
   "id": "d14151f3",
   "metadata": {},
   "outputs": [],
   "source": [
    "# Create grid layout\n",
    "n_cols = 4\n",
    "n_rows = int(np.ceil(n_delays / n_cols))"
   ]
  },
  {
   "cell_type": "code",
   "execution_count": null,
   "id": "806c3cdb",
   "metadata": {},
   "outputs": [],
   "source": [
    "fig, axs = plt.subplots(n_rows, n_cols, figsize=(3.5 * n_cols, 3.5 * n_rows))"
   ]
  },
  {
   "cell_type": "code",
   "execution_count": null,
   "id": "e0798fae",
   "metadata": {},
   "outputs": [],
   "source": [
    "for i, ax in enumerate(axs.flat):\n",
    "    if i < n_delays:\n",
    "        # Get FDR-corrected weights for this delay (sum across bands)\n",
    "        delay_weights = np.abs(coefs_3d_fdr[:, :, i]).sum(axis=1)"
   ]
  },
  {
   "cell_type": "code",
   "execution_count": null,
   "id": "7d04c8df",
   "metadata": {},
   "outputs": [],
   "source": [
    "# Filter valid channels\n",
    "        weights_valid = [delay_weights[j] for j in valid_idx]"
   ]
  },
  {
   "cell_type": "code",
   "execution_count": null,
   "id": "7d1f5adf",
   "metadata": {},
   "outputs": [],
   "source": [
    "plot_topomap(weights_valid, valid_pos, axes=ax, contours=0, cmap=\"coolwarm\", show=False)\n",
    "        ax.set_title(f\"Delay: {delay_times[i]:.2f}s\")\n",
    "    else:\n",
    "        ax.axis(\"off\")"
   ]
  },
  {
   "cell_type": "code",
   "execution_count": null,
   "id": "318929f3",
   "metadata": {},
   "outputs": [],
   "source": [
    "fig.suptitle(\"FDR-Corrected EEG Weights Across Delays\", fontsize=16)\n",
    "plt.tight_layout(rect=[0, 0, 1, 0.95])\n",
    "plt.show()"
   ]
  },
  {
   "cell_type": "code",
   "execution_count": null,
   "id": "a52bc60b",
   "metadata": {},
   "outputs": [],
   "source": [
    "# ## Matplotlib Animation Across Delays\n",
    "# \n",
    "#"
   ]
  },
  {
   "cell_type": "code",
   "execution_count": null,
   "id": "f3be824d",
   "metadata": {},
   "outputs": [],
   "source": [
    "# In[79]:"
   ]
  },
  {
   "cell_type": "code",
   "execution_count": null,
   "id": "cf8948d1",
   "metadata": {},
   "outputs": [],
   "source": [
    "import matplotlib.pyplot as plt\n",
    "from mne.viz import plot_topomap\n",
    "from matplotlib.animation import FuncAnimation\n",
    "from IPython.display import HTML"
   ]
  },
  {
   "cell_type": "code",
   "execution_count": null,
   "id": "3f7df4e3",
   "metadata": {},
   "outputs": [],
   "source": [
    "# Prepare topomap data\n",
    "topomap_series = []\n",
    "for i in range(n_delays):\n",
    "    weights = np.abs(coefs_3d_fdr[:, :, i]).sum(axis=1)\n",
    "    topomap_series.append([weights[j] for j in valid_idx])"
   ]
  },
  {
   "cell_type": "code",
   "execution_count": null,
   "id": "29bebef0",
   "metadata": {},
   "outputs": [],
   "source": [
    "# Setup figure\n",
    "fig, ax = plt.subplots(figsize=(5, 5))"
   ]
  },
  {
   "cell_type": "code",
   "execution_count": null,
   "id": "6709796c",
   "metadata": {},
   "outputs": [],
   "source": [
    "def update(frame):\n",
    "    ax.clear()\n",
    "    im, _ = plot_topomap(topomap_series[frame], valid_pos, axes=ax,\n",
    "                         contours=0, cmap=\"coolwarm\", show=False)\n",
    "    ax.set_title(f\"Delay: {delay_times[frame]:.2f}s\")\n",
    "    return [im]"
   ]
  },
  {
   "cell_type": "code",
   "execution_count": null,
   "id": "29deb0cf",
   "metadata": {},
   "outputs": [],
   "source": [
    "ani = FuncAnimation(fig, update, frames=n_delays, interval=800, blit=True)"
   ]
  },
  {
   "cell_type": "code",
   "execution_count": null,
   "id": "f16a2bd2",
   "metadata": {},
   "outputs": [],
   "source": [
    "plt.rcParams[\"animation.html\"] = \"jshtml\"\n",
    "HTML(ani.to_jshtml())  # ✅ only this renders in notebook"
   ]
  },
  {
   "cell_type": "code",
   "execution_count": null,
   "id": "16c9b471",
   "metadata": {},
   "outputs": [],
   "source": [
    "#"
   ]
  },
  {
   "cell_type": "code",
   "execution_count": null,
   "id": "c6121381",
   "metadata": {},
   "outputs": [],
   "source": [
    "# In[80]:"
   ]
  },
  {
   "cell_type": "code",
   "execution_count": null,
   "id": "1c97834a",
   "metadata": {},
   "outputs": [],
   "source": [
    "# Step 1: Identify top electrode × band\n",
    "coefs_3d_fdr = mean_coefs_fdr.reshape(n_channels, n_bands, n_delays)\n",
    "contrib_map = np.abs(coefs_3d_fdr).sum(axis=2)\n",
    "top_ch_idx, top_band_idx = np.unravel_index(np.argmax(contrib_map), contrib_map.shape)\n",
    "top_band_name = band_labels[top_band_idx]\n",
    "top_ch_name = raw.ch_names[top_ch_idx]"
   ]
  },
  {
   "cell_type": "code",
   "execution_count": null,
   "id": "1e8300d0",
   "metadata": {},
   "outputs": [],
   "source": [
    "print(f\"✅ Most predictive feature: {top_ch_name} — {top_band_name}\")"
   ]
  },
  {
   "cell_type": "code",
   "execution_count": null,
   "id": "af98f17e",
   "metadata": {},
   "outputs": [],
   "source": [
    "# Step 2: Prepare weights and positions\n",
    "weights = coefs_3d_fdr[:, top_band_idx, :].sum(axis=1)\n",
    "valid_idx = []\n",
    "valid_pos = []\n",
    "valid_weights = []\n",
    "for i in range(n_channels):\n",
    "    pos = raw.info['chs'][i]['loc'][:2]\n",
    "    if not np.any(np.isnan(pos)):\n",
    "        valid_idx.append(i)\n",
    "        valid_pos.append(pos)\n",
    "        valid_weights.append(weights[i])"
   ]
  },
  {
   "cell_type": "code",
   "execution_count": null,
   "id": "eb53ea22",
   "metadata": {},
   "outputs": [],
   "source": [
    "valid_pos = np.array(valid_pos)"
   ]
  },
  {
   "cell_type": "code",
   "execution_count": null,
   "id": "a1e87390",
   "metadata": {},
   "outputs": [],
   "source": [
    "# Get position of top electrode\n",
    "top_plot_idx = valid_idx.index(top_ch_idx)\n",
    "top_plot_pos = valid_pos[top_plot_idx]"
   ]
  },
  {
   "cell_type": "code",
   "execution_count": null,
   "id": "a26efdc5",
   "metadata": {},
   "outputs": [],
   "source": [
    "# Step 3: Plot with circle on top electrode\n",
    "fig, ax = plt.subplots(figsize=(6, 5))\n",
    "im, _ = plot_topomap(valid_weights, valid_pos, axes=ax, cmap=\"coolwarm\", contours=0, show=False)\n",
    "ax.scatter(*top_plot_pos, color='black', s=80, facecolors='none', linewidths=2, label=f'{top_ch_name}')\n",
    "plt.colorbar(im, ax=ax, shrink=0.7, label='FDR-Corrected Weight (Summed over Delays)')\n",
    "ax.set_title(f\"Top EEG Finger-Print: {top_ch_name} – {top_band_name} Band\")\n",
    "plt.legend(loc='lower right')\n",
    "plt.tight_layout()\n",
    "plt.show()"
   ]
  },
  {
   "cell_type": "code",
   "execution_count": null,
   "id": "a9e58c7f",
   "metadata": {},
   "outputs": [],
   "source": [
    "# ## Smoothed + Normalized PDA vs. EEG (Top Feature)"
   ]
  },
  {
   "cell_type": "code",
   "execution_count": null,
   "id": "ea912d60",
   "metadata": {},
   "outputs": [],
   "source": [
    "# In[81]:"
   ]
  },
  {
   "cell_type": "code",
   "execution_count": null,
   "id": "e6d8de41",
   "metadata": {},
   "outputs": [],
   "source": [
    "from scipy.stats import zscore\n",
    "from scipy.ndimage import gaussian_filter1d\n",
    "import matplotlib.pyplot as plt"
   ]
  },
  {
   "cell_type": "code",
   "execution_count": null,
   "id": "d3add7e0",
   "metadata": {},
   "outputs": [],
   "source": [
    "# Step 1: Extract EEG time series for top electrode × band across all delays\n",
    "eeg_feature_idx = top_ch_idx * n_bands * n_delays + top_band_idx * n_delays\n",
    "eeg_time_series = X_with_delays[:, eeg_feature_idx:eeg_feature_idx + n_delays].sum(axis=1)"
   ]
  },
  {
   "cell_type": "code",
   "execution_count": null,
   "id": "f8d47073",
   "metadata": {},
   "outputs": [],
   "source": [
    "# Step 2: Normalize (z-score)\n",
    "eeg_z = zscore(eeg_time_series)\n",
    "pda_z = zscore(y_with_delays)"
   ]
  },
  {
   "cell_type": "code",
   "execution_count": null,
   "id": "fd0b543c",
   "metadata": {},
   "outputs": [],
   "source": [
    "# Step 3: Smooth both with a Gaussian filter\n",
    "sigma = 2  # adjust for smoothing extent (e.g., sigma=2 = half-second if fs=4 Hz)\n",
    "eeg_smooth = gaussian_filter1d(eeg_z, sigma=sigma)\n",
    "pda_smooth = gaussian_filter1d(pda_z, sigma=sigma)"
   ]
  },
  {
   "cell_type": "code",
   "execution_count": null,
   "id": "88399623",
   "metadata": {},
   "outputs": [],
   "source": [
    "# Step 4: Plot\n",
    "plt.figure(figsize=(12, 4))\n",
    "plt.plot(pda_smooth, label='Positive Diametric Activity (PDA or DCEN-DMN)', color='red', linewidth=2)\n",
    "plt.plot(eeg_smooth, label=f'EEG ({top_ch_name}, {top_band_name})', color='blue', linewidth=2)\n",
    "plt.title(f'Smoothed, Normalized Time Series: PDA vs EEG ({top_ch_name}, {top_band_name})')\n",
    "plt.xlabel('Time (4 Hz samples)')\n",
    "plt.ylabel('Z-scored Signal')\n",
    "plt.legend()\n",
    "plt.grid(True)\n",
    "plt.tight_layout()\n",
    "plt.show()"
   ]
  },
  {
   "cell_type": "code",
   "execution_count": null,
   "id": "a9d50060",
   "metadata": {},
   "outputs": [],
   "source": [
    "# In[82]:"
   ]
  },
  {
   "cell_type": "code",
   "execution_count": null,
   "id": "e11e260d",
   "metadata": {},
   "outputs": [],
   "source": [
    "import matplotlib.pyplot as plt\n",
    "from matplotlib.gridspec import GridSpec\n",
    "from mne.viz import plot_topomap\n",
    "from scipy.ndimage import gaussian_filter1d\n",
    "from scipy.stats import zscore"
   ]
  },
  {
   "cell_type": "code",
   "execution_count": null,
   "id": "d6a6a429",
   "metadata": {},
   "outputs": [],
   "source": [
    "# Define frequency ranges\n",
    "band_ranges_hz = {\n",
    "    \"Delta\": (1, 4),\n",
    "    \"Theta\": (4, 7),\n",
    "    \"Alpha1\": (7, 9),\n",
    "    \"Alpha2\": (9, 12),\n",
    "    \"Beta1\": (12, 15),\n",
    "    \"Beta2\": (15, 20),\n",
    "    \"Beta3\": (20, 25),\n",
    "    \"Beta4\": (25, 30),\n",
    "    \"Gamma1\": (30, 35),\n",
    "    \"Gamma2\": (35, 40)\n",
    "}"
   ]
  },
  {
   "cell_type": "code",
   "execution_count": null,
   "id": "e68aa1c7",
   "metadata": {},
   "outputs": [],
   "source": [
    "# Figure layout: 2 rows (topo + timeseries, caption)\n",
    "fig = plt.figure(figsize=(14, 8), constrained_layout=True)\n",
    "gs = GridSpec(2, 2, figure=fig, height_ratios=[2, 0.75])"
   ]
  },
  {
   "cell_type": "code",
   "execution_count": null,
   "id": "6d3d52e1",
   "metadata": {},
   "outputs": [],
   "source": [
    "# Panel A: Topomap\n",
    "ax1 = fig.add_subplot(gs[0, 0])\n",
    "im, _ = plot_topomap(valid_weights, valid_pos, axes=ax1, cmap=\"coolwarm\", contours=0, show=False)\n",
    "ax1.scatter(*top_plot_pos, color='black', s=80, facecolors='none', linewidths=2, label=f'{top_ch_name}')\n",
    "f_range = band_ranges_hz.get(top_band_name, (\"?\", \"?\"))\n",
    "cbar = plt.colorbar(im, ax=ax1, shrink=0.7, label='FDR-Corrected Weight (Summed over Delays)')\n",
    "ax1.set_title(f\"Topomap: {top_ch_name} – {top_band_name} ({f_range[0]}–{f_range[1]} Hz)\")\n",
    "ax1.legend(loc=\"lower right\")"
   ]
  },
  {
   "cell_type": "code",
   "execution_count": null,
   "id": "33e44e39",
   "metadata": {},
   "outputs": [],
   "source": [
    "# Panel B: Time Series\n",
    "ax2 = fig.add_subplot(gs[0, 1])\n",
    "ax2.plot(pda_smooth, label='PDA (CEN-DMN)', color='red', linewidth=2)\n",
    "ax2.plot(eeg_smooth, label=f'EEG ({top_ch_name}, {top_band_name})', color='blue', linewidth=2)\n",
    "ax2.set_title(\"Smoothed, Z-Scored Time Series\")\n",
    "ax2.set_xlabel(\"Time (4 Hz samples)\")\n",
    "ax2.set_ylabel(\"Z-scored Signal\")\n",
    "ax2.legend()\n",
    "ax2.grid(True)"
   ]
  },
  {
   "cell_type": "code",
   "execution_count": null,
   "id": "692e8828",
   "metadata": {},
   "outputs": [],
   "source": [
    "# Panel C: Caption\n",
    "caption = (\n",
    "    f\"Figure: EEG Finger-Print (EFP) model predicting CEN-DMN BOLD activity (PDA).\\n\\n\"\n",
    "    f\"Panel A shows the scalp topography of the FDR-corrected ridge regression coefficients for the most predictive EEG feature: \"\n",
    "    f\"electrode {top_ch_name} in the {top_band_name} band ({f_range[0]}–{f_range[1]} Hz). The map displays the cumulative contribution \"\n",
    "    \"of each electrode to the prediction, summed across all delays (0–2 s). The top predictive electrode is circled in black.\\n\\n\"\n",
    "    \"Panel B plots the z-scored and smoothed time series of the upsampled amygdala BOLD signal (red) and the EEG power from the identified \"\n",
    "    f\"fingerprint ({top_ch_name}–{top_band_name}, blue). The co-fluctuations between the EEG and fMRI signals demonstrate the temporal alignment \"\n",
    "    \"captured by the EFP model.\"\n",
    ")"
   ]
  },
  {
   "cell_type": "code",
   "execution_count": null,
   "id": "a7fa4ade",
   "metadata": {},
   "outputs": [],
   "source": [
    "ax_caption = fig.add_subplot(gs[1, :])\n",
    "ax_caption.axis(\"off\")\n",
    "ax_caption.text(0, 1, caption, ha='left', va='top', wrap=True, fontsize=9)"
   ]
  },
  {
   "cell_type": "code",
   "execution_count": null,
   "id": "b65fa07d",
   "metadata": {},
   "outputs": [],
   "source": [
    "# Super title and save\n",
    "fig.suptitle(\"EEG Finger-Print Prediction of CE-DMN PDA BOLD Activity\", fontsize=16)\n",
    "plt.savefig(\"../figures/EFP_summary_plot_with_caption.png\", dpi=300)\n",
    "\"../figures/EFP_summary_plot_with_caption.png\""
   ]
  },
  {
   "cell_type": "code",
   "execution_count": null,
   "id": "6e440279",
   "metadata": {},
   "outputs": [],
   "source": [
    "# In[ ]:"
   ]
  }
 ],
 "metadata": {
  "kernelspec": {
   "display_name": "Python 3 (ipykernel)",
   "language": "python",
   "name": "python3"
  },
  "language_info": {
   "codemirror_mode": {
    "name": "ipython",
    "version": 3
   },
   "file_extension": ".py",
   "mimetype": "text/x-python",
   "name": "python",
   "nbconvert_exporter": "python",
   "pygments_lexer": "ipython3",
   "version": "3.11.7"
  }
 },
 "nbformat": 4,
 "nbformat_minor": 5
}
